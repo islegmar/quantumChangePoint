{
 "cells": [
  {
   "cell_type": "markdown",
   "id": "clinical-operator",
   "metadata": {},
   "source": [
    "# Simple measurament with 5 elements"
   ]
  },
  {
   "cell_type": "markdown",
   "id": "worth-theater",
   "metadata": {},
   "source": [
    "# Overview"
   ]
  },
  {
   "cell_type": "markdown",
   "id": "registered-germany",
   "metadata": {},
   "source": [
    "In order to simplify the coding there is a change of notation:\n",
    "- The possible **states** will be labeled as 0, 1, ...\n",
    "- The possible **results** also as 0, 1, ...\n",
    "\n",
    "More useful definitions:\n",
    "- An **experiment** is a serie of states. For example an experiment [0, 0, 0, 1, 1] means the system has produced the state 0 three times and then twice the state 1. \n",
    "\n",
    "In our case:\n",
    "- 2 states are possible : {0,1}\n",
    "- 2 results are possible : {0,1}\n",
    "- All the experiments consists in 5 states, first state 0 and then state 1\n",
    "\n",
    "Witha all those constraints, we can generate 5 possible experiments:\n",
    "- $E_0$ = 0, 0, 0, 0, 0\n",
    "- $E_1$ = 0, 0, 0, 0, 1\n",
    "- $E_2$ = 0, 0, 0, 1, 1\n",
    "- $E_3$ = 0, 0, 1, 1, 1\n",
    "- $E_4$ = 0, 1, 1, 1, 1\n",
    "\n",
    "The process is the following:\n",
    "- Alice choses an experiment and send the states one by one to Bob\n",
    "- Bob measure each state. Base on the results Bob guess which is the state associated using his **estimator**\n",
    "- Once Bob has measured all the states generates an **hypothesis** of which was the experiment chosen by Alice based on the outputs of the measuraments he has performed\n",
    "- The process is repeated several times and then the experiments are compared with the hypothesis to check the rate of success\n"
   ]
  },
  {
   "cell_type": "markdown",
   "id": "vulnerable-armor",
   "metadata": {},
   "source": [
    "# Probability of success : theoretical"
   ]
  },
  {
   "cell_type": "markdown",
   "id": "innocent-indication",
   "metadata": {},
   "source": [
    "Given an **experiment** $E_i$ we do a measurament getting a serie of results. The results obtained can be explained by a serie of **Hypothesis** and using our **estimator** we chose one of them, that has a certain probability of being the good. \n",
    "\n",
    "If we have K possible experiments, the probability of success is:\n",
    "$$P_s = \\sum_{i=1}^{M} {P(E_i)P(H_{chosen}|E_i)}$$\n",
    "where:\n",
    "- $P(E_i)$ : probability experiment $E_i$ is produced\n",
    "- $P(H_{chosen}|E_i)$ : probability that the hypothesis we have chosen $H_{chosen}$ to explain the results produced by the experiment $E_i$ is the right one.\n",
    "\n",
    "Ok, let's compute those probabilities in our scenario\n",
    "\n",
    "$P(E_i)$ : Because we have 5 different experiments and all are the same likelihood, the probability is $\\textbf{1/5}$\n",
    "\n",
    "$P(H_{chosen}|E_i)$ : an experiment is a serie states $\\Psi_i$ that we measure producing results $\\Pi_j$; based on them we generate an hypothesis and the probabiliy of success is (where N is the number or states in the experiment): \n",
    "\n",
    "$$P(H_{chosen}|E_i) = \\prod_{j=1}^{N}P({\\Pi_{j; f(j)=i}|\\Psi_i})$$ \n",
    "\n",
    "In our case, the estimator function is:\n",
    "- $\\Pi_1 \\rightarrow \\Psi_1$\n",
    "- $\\Pi_2 \\rightarrow \\Psi_2$\n",
    "\n",
    "and the probabilities:\n",
    "- $P(\\Pi_1|\\Psi_1) = 1$\n",
    "- $P(\\Pi_1|\\Psi_2) = c^2$\n",
    "- $P(\\Pi_2|\\Psi_1) = 0$\n",
    "- $P(\\Pi_2|\\Psi_2) = 1 - c^2$\n",
    "\n",
    "So if our experiments consists in $n_1$ states $\\Psi_1$ and $n_2$ states $\\Psi_2$ we can rewrite using our estimator:\n",
    "\n",
    "$$P(H|E) = \\prod_{i=1}^{n_1}{P(\\Pi_1|\\Psi_1)}\\prod_{j=1}^{n_2}{P(\\Pi_2|\\Psi_2)} = (1-c^2)^{n_2}$$ \n",
    "\n",
    "In our case we have $M=5$ experiments, each of them consisting in $N=5$ possible states, where the value$n_2=[0,4]$. Putting all together we have:\n",
    "\n",
    "$$P_s = {1 \\over 5}((1-c^2)^0 + (1-c^2)^1 + (1-c^2)^2 + (1-c^2)^3 + (1-c^2)^4)$$\n",
    "\n",
    "If we apply the formula for the geometric serie ($r \\ne 1$):\n",
    "\n",
    "${\\displaystyle a+ar+ar^{2}+ar^{3}+\\cdots +ar^{n}=\\sum _{k=0}^{n}ar^{k}=a\\left({\\frac {1-r^{n+1}}{1-r}}\\right),}$\n",
    "\n",
    "we can write as\n",
    "\n",
    "$$P_s = \\frac{1-(1-c^2)^5}{1-c^2}$$\n",
    "\n"
   ]
  },
  {
   "cell_type": "code",
   "execution_count": 20,
   "id": "short-riding",
   "metadata": {},
   "outputs": [],
   "source": [
    "def getSuccessTheoretical(c, n):\n",
    "    return 100.0 * ((1-(1-c**2)**n)/(1-(1-c**2)))/n"
   ]
  },
  {
   "cell_type": "markdown",
   "id": "south-diagram",
   "metadata": {},
   "source": [
    "## Probability of success : simulator\n",
    "\n",
    "\n",
    "What follows is a program that emulates this process."
   ]
  },
  {
   "cell_type": "code",
   "execution_count": 21,
   "id": "wrapped-screw",
   "metadata": {},
   "outputs": [],
   "source": [
    "# -*- coding: utf-8 -*-\n",
    "\n",
    "import argparse\n",
    "import random\n",
    "from datetime import datetime\n",
    "\n",
    "random.seed(datetime.now())\n",
    "\n",
    "# -----------------------------------------------------------------------------\n",
    "# General Utilities\n",
    "# -----------------------------------------------------------------------------\n",
    "\n",
    "def _equal(array1, array2):\n",
    "    \"\"\" Check the equality for two arrays. \"\"\"\n",
    "\n",
    "    if len(array1)!=len(array2):\n",
    "        return False\n",
    "\n",
    "    equal=True\n",
    "    for ind, val1 in enumerate(array1):\n",
    "        if val1!=array2[ind]:\n",
    "            equal=False\n",
    "            break\n",
    "\n",
    "    return equal"
   ]
  },
  {
   "cell_type": "markdown",
   "id": "requested-richardson",
   "metadata": {},
   "source": [
    "The **estimator** is the function used by Bob to guess the state based on a result.\n",
    "\n",
    "It is an array `estimator[<result>]=<state>` where:\n",
    "- Index : the possible result\n",
    "- Value : the state Bob associates to that result\n",
    "\n",
    "For example estimator[a]=b means that if we get the reasult 'a' Bob will say that the state was 'b'.\n",
    "\n",
    "From previous exercises, in our case this is the estimator:\n",
    "- Result 0 $\\rightarrow$ State 0\n",
    "- Result 1 $\\rightarrow$ State 1\n"
   ]
  },
  {
   "cell_type": "code",
   "execution_count": 22,
   "id": "final-musician",
   "metadata": {},
   "outputs": [],
   "source": [
    "def _getEstimator():\n",
    "    return [0, 1]"
   ]
  },
  {
   "cell_type": "markdown",
   "id": "equal-diversity",
   "metadata": {},
   "source": [
    "The **probabiliy distribution** determines the probability that a Result is \"produced\" by a certain State.\n",
    "\n",
    "It is a matrix `probDistribution[<state>][<result>] = <probability>` where:\n",
    "- Row : states\n",
    "- Column : results\n",
    "\n",
    "For example `probDistribution[1][0]=0.25` means that the probability that **State 1** is measured as **Result 0** is of 0.25.\n",
    "\n",
    "In our case c represents the scalar product between both states \n",
    "$$<State_1|State_0>=c$$\n",
    "\n",
    "so the probability distribution genrated is the following:"
   ]
  },
  {
   "cell_type": "code",
   "execution_count": 23,
   "id": "balanced-machine",
   "metadata": {},
   "outputs": [],
   "source": [
    "def _getProbDistribution(c):\n",
    "    return [[1   , 0],\n",
    "            [c**2, 1-c**2]]"
   ]
  },
  {
   "cell_type": "markdown",
   "id": "alien-commercial",
   "metadata": {},
   "source": [
    "Now let's **build an experiment**. This is a serie of States given a certain distribution, where distribution is an array `distribution[<id>]=n` where `n` is the number times the state `<id>` appears in the experiment (order preserved).\n",
    "\n",
    "For example [1,4] will generate [0,1,1,1,1]"
   ]
  },
  {
   "cell_type": "code",
   "execution_count": 24,
   "id": "brazilian-bible",
   "metadata": {},
   "outputs": [],
   "source": [
    "def _buildExperiment(distribution):\n",
    "    experiment=[]\n",
    "    for ind, val in enumerate(distribution):\n",
    "        experiment+=[ind]*val\n",
    "\n",
    "    return experiment"
   ]
  },
  {
   "cell_type": "markdown",
   "id": "worthy-operations",
   "metadata": {},
   "source": [
    "Given a single **state** give a possible **result** taking into account the **probability distribution**"
   ]
  },
  {
   "cell_type": "code",
   "execution_count": 25,
   "id": "portable-aquarium",
   "metadata": {},
   "outputs": [],
   "source": [
    "def _getResultForState(state, prob):\n",
    "    value=random.uniform(0,1)\n",
    "\n",
    "    output=None\n",
    "    for ind,prob in enumerate(prob[state]):\n",
    "        value-=prob\n",
    "        if value<=0:\n",
    "            output=ind\n",
    "            break\n",
    "\n",
    "    return output"
   ]
  },
  {
   "cell_type": "markdown",
   "id": "arctic-tournament",
   "metadata": {},
   "source": [
    "Given an experiment, **give a possible list of results** taken into acount the **probability distribution**."
   ]
  },
  {
   "cell_type": "code",
   "execution_count": 26,
   "id": "ongoing-evaluation",
   "metadata": {},
   "outputs": [],
   "source": [
    "def _getResultsForExperiment(experiment, prob):\n",
    "    results=[None] * len(experiment)\n",
    "\n",
    "    for ind, state in enumerate(experiment):\n",
    "        results[ind] = _getResultForState(state, prob)\n",
    "\n",
    "    return results"
   ]
  },
  {
   "cell_type": "markdown",
   "id": "executive-lawrence",
   "metadata": {},
   "source": [
    "Give a list of results, build an **hypothesis** (list of states) using the **estimator**."
   ]
  },
  {
   "cell_type": "code",
   "execution_count": 27,
   "id": "mature-glasgow",
   "metadata": {},
   "outputs": [],
   "source": [
    "def _getHypothesysForResults(results, estimator):\n",
    "    \"\"\" Given a list of results, build an hypothesis using the estimator. \"\"\"\n",
    "    hypothesis=[None] * len(results)\n",
    "\n",
    "    for ind, result in enumerate(results):\n",
    "        hypothesis[ind] = estimator[result]\n",
    "\n",
    "    return hypothesis"
   ]
  },
  {
   "cell_type": "markdown",
   "id": "quality-singles",
   "metadata": {},
   "source": [
    "Ok, time to put all the pieces together.\n",
    "\n",
    "If num_states_per_experiment = 5 we generates experiment of the form:\n",
    "- 0 0 0 0 0\n",
    "- 0 0 0 0 1\n",
    "- 0 0 0 1 1\n",
    "- 0 0 1 1 1\n",
    "- 0 1 1 1 1\n",
    "\n",
    "And every experiment is generated 'num_iterations_per_experiment' times"
   ]
  },
  {
   "cell_type": "code",
   "execution_count": 35,
   "id": "boring-pharmacy",
   "metadata": {},
   "outputs": [],
   "source": [
    "# Generates a random string \n",
    "def getSuccessSimulator(num_states_per_experiment, prob, estimator, num_iterations_per_experiment=1000):\n",
    "\n",
    "    tot=0\n",
    "    totOk=0\n",
    "    # n is the number of states '\n",
    "    for n in range(num_states_per_experiment):\n",
    "        experiment=_buildExperiment([num_states_per_experiment-n,n])\n",
    "        myOk=0\n",
    "        myTot=0\n",
    "        for k in range(num_iterations_per_experiment):\n",
    "            results=_getResultsForExperiment(experiment, prob)\n",
    "            hypothesis=_getHypothesysForResults(results, estimator)\n",
    "            tot += 1\n",
    "            myTot += 1\n",
    "            if _equal(experiment, hypothesis):\n",
    "                totOk += 1\n",
    "                myOk += 1\n",
    "\n",
    "    return (totOk * 100.0) / tot"
   ]
  },
  {
   "cell_type": "markdown",
   "id": "expressed-drawing",
   "metadata": {},
   "source": [
    "# Quantum version\n",
    "\n",
    "Here there is a quantum version where the circuits are built based on the experiments"
   ]
  },
  {
   "cell_type": "code",
   "execution_count": 44,
   "id": "expected-intranet",
   "metadata": {},
   "outputs": [],
   "source": [
    "from qiskit import(\n",
    "  QuantumCircuit,\n",
    "  QuantumRegister,\n",
    "  ClassicalRegister,\n",
    "  execute,\n",
    "  Aer\n",
    ")\n",
    "import math\n",
    "\n",
    "# TODO : fix the circuits is not reused\n",
    "def getSuccessQuantum(c, experiments, num_iterations_per_experiment=1000):\n",
    "    \"\"\" Execute a serie of experiments.\n",
    "\n",
    "    experiments is a map { <experiment> : <expected output> } being a serie of\n",
    "    0s and 1s where:\n",
    "    - 0 in experiment : state |0>\n",
    "    - 1 in experiment : state |Phi> (where c = <Phi|0>)\n",
    "    - 0,1 in expected output : the outputs when measuring in z\"\"\"\n",
    "\n",
    "    theta=math.acos(c)\n",
    "    simulator = Aer.get_backend('qasm_simulator')\n",
    "    \n",
    "    totIterations=0\n",
    "    totOKs=0\n",
    "    for experiment, my_output in experiments.items():\n",
    "        qreg_q = QuantumRegister(5, 'q')\n",
    "        creg_c = ClassicalRegister(5, 'c')\n",
    "        circuit = QuantumCircuit(qreg_q, creg_c)\n",
    "        \n",
    "        for ind in range(len(experiment)):\n",
    "            state=experiment[ind]\n",
    "            # Do nothing, the q-bit is already in state |0>\n",
    "            if state=='0':\n",
    "                pass\n",
    "            # Put it in the state |Phi>\n",
    "            elif state=='1':\n",
    "                circuit.initialize([c, math.sqrt(1-c**2)], qreg_q[ind])\n",
    "        \n",
    "        # Map the quantum measurement to the classical bits\n",
    "        circuit.measure(qreg_q, creg_c)\n",
    "        \n",
    "        # Execute the circuit on the qasm simulator\n",
    "        totIterations+=num_iterations_per_experiment\n",
    "        job = execute(circuit, simulator, shots=num_iterations_per_experiment)\n",
    "        result = job.result()\n",
    "        counts = result.get_counts(circuit)\n",
    "        if my_output in counts:\n",
    "            totOKs += counts.get(my_output)\n",
    "    \n",
    "    return 100.0 * (totOKs/totIterations)"
   ]
  },
  {
   "cell_type": "markdown",
   "id": "dressed-matthew",
   "metadata": {},
   "source": [
    "# Some computations"
   ]
  },
  {
   "cell_type": "markdown",
   "id": "serious-learning",
   "metadata": {},
   "source": [
    "Let's compute several cases"
   ]
  },
  {
   "cell_type": "markdown",
   "id": "ruled-stations",
   "metadata": {},
   "source": [
    "**Value c=0 (totalment distinguished)**"
   ]
  },
  {
   "cell_type": "code",
   "execution_count": 53,
   "id": "combined-looking",
   "metadata": {},
   "outputs": [
    {
     "name": "stdout",
     "output_type": "stream",
     "text": [
      "Theoretical : 100.000000\n",
      "Simulation : 100.000000\n",
      "Quantum : 100.000000\n"
     ]
    }
   ],
   "source": [
    "experiments = { '00000' : '00000',\n",
    "                '00001' : '10000',\n",
    "                '00011' : '11000',\n",
    "                '00111' : '11100',\n",
    "                '01111' : '11110'\n",
    "              }\n",
    "\n",
    "n=5\n",
    "c=0.00000001\n",
    "\n",
    "print (\"Theoretical : %f\" % (getSuccessTheoretical(c, n)))\n",
    "print (\"Simulation : %f\" % (getSuccessSimulator(n, _getProbDistribution(c), _getEstimator())))\n",
    "print (\"Quantum : %f\" % (getSuccessQuantum(c,experiments)))"
   ]
  },
  {
   "cell_type": "markdown",
   "id": "dynamic-judgment",
   "metadata": {},
   "source": [
    "**Value c=1 (can not be distiguished)**"
   ]
  },
  {
   "cell_type": "code",
   "execution_count": 51,
   "id": "backed-morning",
   "metadata": {
    "scrolled": true
   },
   "outputs": [
    {
     "name": "stdout",
     "output_type": "stream",
     "text": [
      "Theoretical : 20.000000\n",
      "Simulation : 20.000000\n",
      "Quantum : 20.000000\n"
     ]
    }
   ],
   "source": [
    "n=5\n",
    "c=1\n",
    "\n",
    "print (\"Theoretical : %f\" % (getSuccessTheoretical(c, n)))\n",
    "print (\"Simulation : %f\" % (getSuccessSimulator(n, _getProbDistribution(c), _getEstimator())))\n",
    "print (\"Quantum : %f\" % (getSuccessQuantum(c,experiments)))"
   ]
  },
  {
   "cell_type": "markdown",
   "id": "going-equivalent",
   "metadata": {},
   "source": [
    "**Intermediate value**"
   ]
  },
  {
   "cell_type": "code",
   "execution_count": 48,
   "id": "organic-sydney",
   "metadata": {},
   "outputs": [
    {
     "name": "stdout",
     "output_type": "stream",
     "text": [
      "Theoretical : 61.015625\n",
      "Simulation : 60.900000\n",
      "Quantum : 61.340000\n"
     ]
    }
   ],
   "source": [
    "n=5\n",
    "c=0.5\n",
    "\n",
    "print (\"Theoretical : %f\" % (getSuccessTheoretical(c, n)))\n",
    "print (\"Simulation : %f\" % (getSuccessSimulator(n, _getProbDistribution(c), _getEstimator())))\n",
    "print (\"Quantum : %f\" % (getSuccessQuantum(c,experiments)))"
   ]
  },
  {
   "cell_type": "code",
   "execution_count": null,
   "id": "professional-basic",
   "metadata": {},
   "outputs": [],
   "source": []
  }
 ],
 "metadata": {
  "kernelspec": {
   "display_name": "Python 3",
   "language": "python",
   "name": "python3"
  },
  "language_info": {
   "codemirror_mode": {
    "name": "ipython",
    "version": 3
   },
   "file_extension": ".py",
   "mimetype": "text/x-python",
   "name": "python",
   "nbconvert_exporter": "python",
   "pygments_lexer": "ipython3",
   "version": "3.8.5"
  }
 },
 "nbformat": 4,
 "nbformat_minor": 5
}
