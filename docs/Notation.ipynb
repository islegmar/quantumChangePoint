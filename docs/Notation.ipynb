{
 "cells": [
  {
   "cell_type": "markdown",
   "id": "welsh-incident",
   "metadata": {},
   "source": [
    "# Notation \n",
    "\n",
    "Throw the papers the notation is not consistent so we will be as much explicit as needed to avoid any ambibuity and when sometimes that means to be very verbose"
   ]
  },
  {
   "cell_type": "markdown",
   "id": "ecological-deficit",
   "metadata": {},
   "source": [
    "## The states (particles)\n",
    "\n",
    "We have the follwing states:\n",
    "\n",
    "$$\n",
    "|\\Psi> = \\cos(\\theta)|0> + \\sin(\\theta)|1> \\\\\n",
    "|\\Phi> = \\cos(\\theta)|0> - \\sin(\\theta)|1> \\\\\n",
    "$$\n",
    "\n",
    "where:\n",
    "* $\\boldsymbol{\\theta} \\in (0, \\pi/2)$ represents the half of the angle between both states"
   ]
  },
  {
   "cell_type": "markdown",
   "id": "apparent-character",
   "metadata": {},
   "source": [
    "## The Hypotesis\n",
    "\n",
    "We have 5 possible hypotesis each of them with 5 particles:\n",
    "\n",
    "* $H_5 : |\\Psi> |\\Psi> |\\Psi> |\\Psi> |\\Phi>$\n",
    "* $H_4 : |\\Psi> |\\Psi> |\\Psi> |\\Phi> |\\Phi>$\n",
    "* $H_3 : |\\Psi> |\\Psi> |\\Phi> |\\Phi> |\\Phi>$\n",
    "* $H_2 : |\\Psi> |\\Phi> |\\Phi> |\\Phi> |\\Phi>$\n",
    "* $H_1 : |\\Phi> |\\Phi> |\\Phi> |\\Phi> |\\Phi>$\n",
    "\n",
    "where the states are emited from \"left to right\".\n",
    "\n",
    "We use the following variables:\n",
    "* **variable n** : the number of possible experiments. In our case $n=5$.\n",
    "* **variable m** : the number of particles in every experiments. In our case $m=5$ (not used but just in case).\n",
    "* **variable i** : to refer an experiment ($H_{i}$), so $i \\in [1,n] = [1,5]$\n",
    "* **variable s** : to refer a certain \"step\" in the experiment and in our case $i \\in [1,m] = [1,5]$. Usually it is used as superindex and that means that something like $H_{3}^{2}$ can be read as the \"state in the second step in the third experiment\" that in our case will be the state $|\\Psi>$. \n",
    "\n",
    "Mayber to clarify we can build the following table:\n",
    "\n",
    "\n",
    "|**i** (Hypothesis) \\ **s** (state)|#1|#2|#3|#4|#5|\n",
    ":-------------------|---   |---   |---   |---   |---   |\n",
    "| $5$             |$\\Psi$|$\\Psi$|$\\Psi$|$\\Psi$|$\\Phi$|\n",
    "| $4$             |$\\Psi$|$\\Psi$|$\\Psi$|$\\Phi$|$\\Phi$|\n",
    "| $3$             |$\\Psi$|$\\Psi$|$\\Phi$|$\\Phi$|$\\Phi$|\n",
    "| $2$             |$\\Psi$|$\\Phi$|$\\Phi$|$\\Phi$|$\\Phi$|\n",
    "| $1$             |$\\Phi$|$\\Phi$|$\\Phi$|$\\Phi$|$\\Phi$|"
   ]
  },
  {
   "cell_type": "markdown",
   "id": "faced-asian",
   "metadata": {},
   "source": [
    "## The results / The measurements\n",
    "\n",
    "We use the variable *E* to denote the measurement operators. The exact notation can depend on the strategy chosen (estimator function) and must done explicit when definig it. For example in **Helstrom** we define:\n",
    "\n",
    "$$E_{\\Psi}$$\n",
    "\n",
    "that must be interpreted as: \n",
    "\n",
    "*when a measurement is done, if we get the eigenvalue of the operator $E_{\\Psi}$ the estimator says the state is $|\\Psi>$*\n"
   ]
  },
  {
   "cell_type": "markdown",
   "id": "eligible-portsmouth",
   "metadata": {},
   "source": [
    "## Probabilities\n",
    "\n",
    "* $P(H_{i})$: probability of the hypotesis $H_{i}$\n",
    "* $P(E_{\\Psi})$: probability of the measuring $E_{\\Psi}$\n",
    "* $P_{\\Psi}$ : probability of the state $|\\Psi>$\n",
    "* $P(E_{\\Phi}|\\Psi)$ : probability of measuring $E_{\\Phi}$ if the state is $\\Psi$\n",
    "* $P(\\overline{x}|\\Psi)$ : given that the state is $|\\Psi>$, the probability of measuring the result given by our estimator when the state is $|\\Psi>$. So if our estimator says that when the states is $|\\Psi>$ the measurement operator with higher likelihood is $E_{15}$ then $P(\\overline{x}|\\Psi) \\equiv P(E_{15}|\\Psi)$. We could use a more explicit notation like $P(E_{f(\\Psi)})|\\Psi)$ where $f()$ is the estimation function.\n",
    "\n",
    "Abusing of that notation we can have things like:\n",
    "\n",
    "$$P(\\overline{x}|H_{i})^{s}$$ \n",
    "\n",
    "that can be read as:\n",
    "* Get the state in the step **s** for the experiment **i** (fex. $|\\Psi>$)\n",
    "* Using the estimator function get the measurement operator for that state (in our case $E_{\\Psi}$)\n",
    "* Compute $P(E_{\\Psi}|\\Psi)$\n",
    "\n",
    "\n"
   ]
  }
 ],
 "metadata": {
  "kernelspec": {
   "display_name": "Python 3",
   "language": "python",
   "name": "python3"
  },
  "language_info": {
   "codemirror_mode": {
    "name": "ipython",
    "version": 3
   },
   "file_extension": ".py",
   "mimetype": "text/x-python",
   "name": "python",
   "nbconvert_exporter": "python",
   "pygments_lexer": "ipython3",
   "version": "3.8.5"
  }
 },
 "nbformat": 4,
 "nbformat_minor": 5
}
