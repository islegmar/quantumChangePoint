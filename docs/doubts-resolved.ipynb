{
 "cells": [
  {
   "cell_type": "markdown",
   "id": "welsh-incident",
   "metadata": {},
   "source": [
    "# Helstrom Doubts\n"
   ]
  },
  {
   "cell_type": "markdown",
   "id": "alike-pharmacy",
   "metadata": {},
   "source": [
    "## Eigenvalues of $\\Gamma$ : not always eigenvalues positive / negative => my mistake\n",
    "\n",
    "The generic expression of $\\Gamma$ is:\n",
    "\n",
    "$$\n",
    "\\Gamma(\\theta, \\eta_0, \\eta_1) = \n",
    "\\begin{pmatrix}\n",
    "(\\eta_0-\\eta_1)cos^2(\\theta) & \\frac{1}{2}sin(2\\theta)\\\\\n",
    "\\frac{1}{2}sin(2\\theta)      & (\\eta_0-\\eta_1)sin^2(\\theta)\n",
    "\\end{pmatrix}\n",
    "$$\n",
    "\n",
    "When looking for the operatorors $E_i$ that maximize the success of \n",
    "\n",
    "$$\n",
    "P_s =\n",
    "\\eta_1 + tr[E_0 \\Gamma]\n",
    "$$\n",
    "\n",
    "we diagonalize $\\Gamma$, get its eigenvalues $\\lambda_1$ and $\\lambda_2$ and we make the suposition than **one is positive and the other negative** but let's check the following example:\n",
    "\n",
    "$$\n",
    "\\Gamma \\bigg( \\theta, \\eta_0=\\frac{4}{5}, \\eta_1=\\frac{1}{5} \\bigg) = \n",
    "\\begin{pmatrix}\n",
    "\\frac{3}{5}cos^2(\\theta) & \\frac{1}{2}sin(2\\theta)\\\\\n",
    "\\frac{1}{2}sin(2\\theta)  & \\frac{3}{5}sin^2(\\theta)\n",
    "\\end{pmatrix}\n",
    "$$\n",
    "\n",
    "If we get the [eigenvalues](https://www.wolframalpha.com/input/?i=eigenvalues%28%7B3%2F5cos%5E2%28x%29%2C1%2F2sin%282x%29%7D%2C%7B1%2F2sin%282x%29%2C3%2F5sin%5E2%28x%29%7D%29)\n",
    "\n",
    "**I was wrong** becuase I thought in that cases one of the $\\lambda$ was part positive and part negative but **I did something wrong** because looking at the graph we can easily see that one onf the $\\lambda$ is **always positive** an the other **always negative**."
   ]
  }
 ],
 "metadata": {
  "kernelspec": {
   "display_name": "Python 3",
   "language": "python",
   "name": "python3"
  },
  "language_info": {
   "codemirror_mode": {
    "name": "ipython",
    "version": 3
   },
   "file_extension": ".py",
   "mimetype": "text/x-python",
   "name": "python",
   "nbconvert_exporter": "python",
   "pygments_lexer": "ipython3",
   "version": "3.8.5"
  }
 },
 "nbformat": 4,
 "nbformat_minor": 5
}
