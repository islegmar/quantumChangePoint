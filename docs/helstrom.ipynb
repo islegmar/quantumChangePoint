{
 "cells": [
  {
   "cell_type": "markdown",
   "id": "welsh-incident",
   "metadata": {},
   "source": [
    "# Helstrom Measurement\n",
    "\n",
    "Consider the following binary hypothesis testing scenario involving the pure quantum states $e_0, e_1 \\in B(H_2)$ given by\n",
    "\n",
    "[1] \n",
    "$$ \\rho_0 = |\\Psi_0><\\Psi_0|; |\\Psi_0> = cos(\\theta)|0>+sin(\\theta)|1>$$\n",
    "$$ \\rho_1 = |\\Psi_1><\\Psi_1|; |\\Psi_1> = cos(\\theta)|0>-sin(\\theta)|1>$$\n",
    "\n",
    "Suppose that each hypothesis ($e_0$ or $e_1$) is known to occur with prior probability $\\eta_0, \\eta_1; \\eta_0, +\\eta_1=1$.\n",
    "\n",
    "We perform a measurament, described by the positive operator $E_0, E_1 | E_0+E_1=1$ and assign as our guess the measurament outcome. That is, if the outcome correspondig to $E_0$ occurs we nominate $e_0$ as our guess and similarity for $E_1$."
   ]
  },
  {
   "cell_type": "markdown",
   "id": "alike-pharmacy",
   "metadata": {},
   "source": [
    "## Exercise 1\n",
    "\n",
    "Using the properties of the trace show that the probability of successfully discriminating between the two hypothesis using the measurament $\\{E_0, E_1\\}$ is given by \n",
    "\n",
    "[2] $$P_s=\\eta_1 + tr[E_0 \\Gamma]$$\n",
    "\n",
    "where\n",
    "\n",
    "[3] $$\\Gamma = \\eta_0\\rho_0 - \\eta_1\\rho_1$$"
   ]
  },
  {
   "cell_type": "markdown",
   "id": "unexpected-transaction",
   "metadata": {},
   "source": [
    "### Answer\n",
    "\n",
    "$P_s \\overset{(1)}{=} \\\\\n",
    "\\eta_0 Tr(E_0\\rho_0) + \\eta_1 Tr(E_1\\rho_1) \\overset{(2)}{=} \\\\\n",
    "\\eta_0 Tr(E_0\\rho_0) + \\eta_1 Tr((1-E_0)\\rho_1) \\overset{(3)}{=} \\\\\n",
    "\\eta_0 Tr(E_0\\rho_0) + \\eta_1 \\big(Tr(\\rho_1) - Tr(E_0\\rho_1)\\big) \\overset{(4)}{=} \\\\\n",
    "\\eta_0 Tr(E_0\\rho_0) + \\eta_1 - \\eta_1 Tr(E_0\\rho_1)) \\overset{(5)}{=} \\\\\n",
    "\\eta_1 + Tr(\\eta_0E_0\\rho_0 - \\eta_1E_0\\rho_1) = \\\\\n",
    "\\eta_1 + Tr(E_0(\\eta_0\\rho_0 - \\eta_1\\rho_1)) = \\\\\n",
    "\\eta_1 + tr[E_0 \\Gamma]$ \n",
    "\n",
    "where:\n",
    "- (1) Probability of getting $E_i$ when the system is found in the state described by $\\rho_j$ is $Tr(E_i\\rho_j)$\n",
    "- (2) $E_0 + E_1 = 1$\n",
    "- (3) Where we apply the property $Tr(A+B) = Tr(A)+Tr(B)$\n",
    "- (4) For any density matrix $\\rho_i$, $Tr(\\rho)=1$\n",
    "- (5) Where we apply the property $Tr(kA) = kTr(A)$ for any scalar $k$."
   ]
  },
  {
   "cell_type": "markdown",
   "id": "coated-clinic",
   "metadata": {},
   "source": [
    "## Exercise 2 \n",
    "\n",
    "Determine the eignevalues and eigenvectors of $\\Gamma$."
   ]
  },
  {
   "cell_type": "markdown",
   "id": "fallen-intelligence",
   "metadata": {},
   "source": [
    "### Answer\n",
    "\n",
    "Let's calculate $\\rho_0$ and $\\rho_1$\n",
    "\n",
    "$$ \\rho_0 = \n",
    "|\\Psi_0><\\Psi_0| = \n",
    "(cos(\\theta)|0>+sin(\\theta)|1>)(cos(\\theta)<0|+sin(\\theta)<1|) = \n",
    "cos^2(\\theta)|0><0| + cos(\\theta)sin(\\theta)|0><1| + sin(\\theta)cos(\\theta)|1><0| + sin^2(\\theta)|1><1| = \\begin{pmatrix}\n",
    "cos^2(\\theta) & cos(\\theta)sin(\\theta)\\\\\n",
    "cos(\\theta)sin(\\theta) & sin^2(\\theta)\n",
    "\\end{pmatrix}$$\n",
    "\n",
    "and similar with $\\rho_1$ jsut the sign int he cross terms):\n",
    "\n",
    "$$ \\rho_1 = \n",
    "\\begin{pmatrix}\n",
    "cos^2(\\theta) & -cos(\\theta)sin(\\theta)\\\\\n",
    "-cos(\\theta)sin(\\theta) & sin^2(\\theta)\n",
    "\\end{pmatrix}$$\n",
    "\n",
    "Putting all together\n",
    "\n",
    "$$\n",
    "\\Gamma = \n",
    "\\eta_0\\rho_0 - \\eta_1\\rho_1 = \n",
    "\\begin{pmatrix}\n",
    "\\eta_0cos^2(\\theta) & \\eta_0cos(\\theta)sin(\\theta)\\\\\n",
    "\\eta_0cos(\\theta)sin(\\theta) & \\eta_0sin^2(\\theta)\n",
    "\\end{pmatrix}  \n",
    "-\n",
    "\\begin{pmatrix}\n",
    "\\eta_1cos^2(\\theta) & -\\eta_1cos(\\theta)sin(\\theta)\\\\\n",
    "-\\eta_1cos(\\theta)sin(\\theta) & \\eta_1sin^2(\\theta)\n",
    "\\end{pmatrix}\n",
    "=\n",
    "\\begin{pmatrix}\n",
    "\\eta_0cos^2(\\theta) - \\eta_1cos^2(\\theta) & \\eta_0cos(\\theta)sin(\\theta)+\\eta_1cos(\\theta)sin(\\theta)\\\\\n",
    "\\eta_0cos(\\theta)sin(\\theta)+\\eta_1cos(\\theta)sin(\\theta) & \\eta_0sin^2(\\theta)-\\eta_1sin^2(\\theta)\n",
    "\\end{pmatrix}\n",
    "$$\n",
    "\n",
    "Solving this using [WolphramAlpha](https://www.wolframalpha.com/input/?i=eigenvalues%28%7Bn_0cos%5E2%28a%29-n_1cos%5E2%28a%29%2Cn_0cos%28a%29sin%28a%29%2Bn_1cos%28a%29sin%28a%29%7D%2C%7Bn_0cos%28a%29sin%28a%29%2Bn_1cos%28a%29sin%28a%29%2Cn_0sin%5E2%28a%29-n_1sin%5E2%28a%29%7D%29)"
   ]
  },
  {
   "cell_type": "markdown",
   "id": "foreign-latino",
   "metadata": {},
   "source": [
    "**3)** As in quantum mechanics **any** set of positive operators $\\{E_0, E_1\\}$ satisfying the condition $E_0 + E_1=1$ constitute an admissible measurement determine the **unique** choice  $E_0, E_1$ that maximizes Eq. [2] i.e.\n",
    "\n",
    "maximizes $P_s$\n",
    "\n",
    "subject to \n",
    "- $E_0 \\ge 0$\n",
    "- $E_1 \\ge 0$\n",
    "- $E_0 + E_1 = 1$\n"
   ]
  },
  {
   "cell_type": "markdown",
   "id": "finnish-steel",
   "metadata": {},
   "source": []
  }
 ],
 "metadata": {
  "kernelspec": {
   "display_name": "Python 3",
   "language": "python",
   "name": "python3"
  },
  "language_info": {
   "codemirror_mode": {
    "name": "ipython",
    "version": 3
   },
   "file_extension": ".py",
   "mimetype": "text/x-python",
   "name": "python",
   "nbconvert_exporter": "python",
   "pygments_lexer": "ipython3",
   "version": "3.8.5"
  }
 },
 "nbformat": 4,
 "nbformat_minor": 5
}
